{
 "cells": [
  {
   "cell_type": "code",
   "execution_count": 57,
   "metadata": {},
   "outputs": [],
   "source": [
    "# 24-SEP-2020\n",
    "class bank_account:\n",
    "    def __init__(self,owner,balance):\n",
    "        self.owner = owner\n",
    "        self.balance = balance\n",
    "    \n",
    "    def __str__(self):\n",
    "        return f'Account owner:   {self.owner}\\nAccount balance: ${self.balance}'\n",
    "        \n",
    "    def deposit(self,deposit_amount):\n",
    "        self.balance = self.balance + deposit_amount\n",
    "        print(\"Available Balance in your account is : $\",self.balance)\n",
    "    \n",
    "    #  As an added requirement, withdrawals may not exceed the available balance.\n",
    "    \n",
    "    def withdraw(self,withdraw_amount):\n",
    "        if withdraw_amount > self.balance:\n",
    "            print(\"You cannot make this withdrawl as current available balance is ${}, \\nbut you are trying to withdraw a amount of ${}\".format(self.balance,withdraw_amount))\n",
    "        else:\n",
    "            self.balance = self.balance - withdraw_amount\n",
    "            print(\"Your available balance aftere withdrwal is $:\",self.balance)\n",
    "            "
   ]
  },
  {
   "cell_type": "code",
   "execution_count": 58,
   "metadata": {},
   "outputs": [],
   "source": [
    "ba1 = bank_account(\"MKV737\", 10000)"
   ]
  },
  {
   "cell_type": "code",
   "execution_count": 59,
   "metadata": {},
   "outputs": [
    {
     "name": "stdout",
     "output_type": "stream",
     "text": [
      "Available Balance in your account is : $ 10500\n"
     ]
    }
   ],
   "source": [
    "ba1.deposit(500)"
   ]
  },
  {
   "cell_type": "code",
   "execution_count": 60,
   "metadata": {},
   "outputs": [
    {
     "name": "stdout",
     "output_type": "stream",
     "text": [
      "Your available balance aftere withdrwal is $: 9500\n"
     ]
    }
   ],
   "source": [
    "ba1.withdraw(1000)"
   ]
  },
  {
   "cell_type": "code",
   "execution_count": 61,
   "metadata": {},
   "outputs": [
    {
     "name": "stdout",
     "output_type": "stream",
     "text": [
      "You cannot make this withdrawl as current available balance is $9500, \n",
      "but you are trying to withdraw a amount of $20000\n"
     ]
    }
   ],
   "source": [
    "ba1.withdraw(20000)"
   ]
  },
  {
   "cell_type": "code",
   "execution_count": 62,
   "metadata": {},
   "outputs": [
    {
     "name": "stdout",
     "output_type": "stream",
     "text": [
      "Account owner:   MKV737\n",
      "Account balance: $9500\n"
     ]
    }
   ],
   "source": [
    "print(ba1)"
   ]
  },
  {
   "cell_type": "code",
   "execution_count": null,
   "metadata": {},
   "outputs": [],
   "source": []
  }
 ],
 "metadata": {
  "kernelspec": {
   "display_name": "Python 3",
   "language": "python",
   "name": "python3"
  },
  "language_info": {
   "codemirror_mode": {
    "name": "ipython",
    "version": 3
   },
   "file_extension": ".py",
   "mimetype": "text/x-python",
   "name": "python",
   "nbconvert_exporter": "python",
   "pygments_lexer": "ipython3",
   "version": "3.8.3"
  }
 },
 "nbformat": 4,
 "nbformat_minor": 4
}
