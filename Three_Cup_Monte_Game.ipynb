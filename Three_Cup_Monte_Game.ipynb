{
 "cells": [
  {
   "cell_type": "code",
   "execution_count": 35,
   "metadata": {},
   "outputs": [],
   "source": [
    "def three_cup_monte(user_input):\n",
    "    from random import shuffle\n",
    "    my_list = [1,2,3,4,5,6,7,8,9,0]\n",
    "    shuffle(my_list)\n",
    "    result = my_list\n",
    "    random_number = result[0]\n",
    "    print(\"Thhree Cup Monte number is \",random_number)\n",
    "    print(\"Your input is \",user_input)\n",
    "    \n",
    "    if random_number == user_input :\n",
    "        print(\" You Won!!!\")\n",
    "    else :\n",
    "        print(\"Better Luck next time\")"
   ]
  },
  {
   "cell_type": "code",
   "execution_count": 36,
   "metadata": {},
   "outputs": [],
   "source": [
    "def user_choice():\n",
    "    choice = input(\"Enter a value in the range 1 to 10 : \")\n",
    "    \n",
    "    if  (choice.isdigit() == True) :\n",
    "        print (\"Checking if input is in the range 0 to 10 ... \")\n",
    "        ud = int(choice)\n",
    "        if (ud<=10 and ud>=1):\n",
    "            print(\"Valid Input\")\n",
    "            user_input = ud\n",
    "            three_cup_monte(user_input)\n",
    "        else:\n",
    "            print (\" Enter a digit between 0 to 10\")\n",
    "        \n",
    "    else:\n",
    "        print(\"Wrong Input!\\nPlease enter a integer in the range 0 to 10\")"
   ]
  },
  {
   "cell_type": "code",
   "execution_count": 37,
   "metadata": {},
   "outputs": [
    {
     "name": "stdout",
     "output_type": "stream",
     "text": [
      "Enter a value in the range 1 to 10 : 5\n",
      "Checking if input is in the range 0 to 10 ... \n",
      "Valid Input\n",
      "Thhree Cup Monte number is  5\n",
      "Your input is  5\n",
      " You Won!!!\n"
     ]
    }
   ],
   "source": [
    "user_choice()"
   ]
  },
  {
   "cell_type": "code",
   "execution_count": 38,
   "metadata": {},
   "outputs": [
    {
     "name": "stdout",
     "output_type": "stream",
     "text": [
      "Enter a value in the range 1 to 10 : 7\n",
      "Checking if input is in the range 0 to 10 ... \n",
      "Valid Input\n",
      "Thhree Cup Monte number is  1\n",
      "Your input is  7\n",
      "Better Luck next time\n"
     ]
    }
   ],
   "source": [
    "user_choice()"
   ]
  },
  {
   "cell_type": "code",
   "execution_count": 39,
   "metadata": {},
   "outputs": [
    {
     "name": "stdout",
     "output_type": "stream",
     "text": [
      "Enter a value in the range 1 to 10 : nine\n",
      "Wrong Input!\n",
      "Please enter a integer in the range 0 to 10\n"
     ]
    }
   ],
   "source": [
    "user_choice()"
   ]
  },
  {
   "cell_type": "code",
   "execution_count": null,
   "metadata": {},
   "outputs": [],
   "source": []
  }
 ],
 "metadata": {
  "kernelspec": {
   "display_name": "Python 3",
   "language": "python",
   "name": "python3"
  },
  "language_info": {
   "codemirror_mode": {
    "name": "ipython",
    "version": 3
   },
   "file_extension": ".py",
   "mimetype": "text/x-python",
   "name": "python",
   "nbconvert_exporter": "python",
   "pygments_lexer": "ipython3",
   "version": "3.8.3"
  }
 },
 "nbformat": 4,
 "nbformat_minor": 4
}
