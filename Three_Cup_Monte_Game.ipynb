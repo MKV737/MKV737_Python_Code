{
 "cells": [
  {
   "cell_type": "code",
   "execution_count": 1,
   "metadata": {},
   "outputs": [],
   "source": [
    "# Similar to THREE CUP MONTE game , it is a \" Ten Cup Monte\" game in python.\n",
    "# by MKV737  on 21-SEP-2020\n",
    "\n",
    "def user_choice():\n",
    "    user_input = (input(\"enter a number betweeen 0 to 9 : \"))\n",
    "    if type(user_input) != int :\n",
    "        print(\"Please enter a integer number between 0 to 9\")\n",
    "    else:\n",
    "        three_cup_monte(user_input)\n",
    "    \n",
    "\n",
    "\n",
    "def three_cup_monte(user_input):\n",
    "    from random import shuffle\n",
    "    my_list = [1,2,3,4,5,6,7,8,9,0]\n",
    "    shuffle(my_list)\n",
    "    result = my_list\n",
    "    random_number = result[0]\n",
    "    print(\"The random number is \",random_number)\n",
    "    print(\"User input is \",user_input)\n",
    "    \n",
    "    if random_number == user_input :\n",
    "        print(\" You Won!!!\")\n",
    "    else :\n",
    "        print(\"Better Luck next time\")"
   ]
  },
  {
   "cell_type": "code",
   "execution_count": null,
   "metadata": {},
   "outputs": [],
   "source": []
  }
 ],
 "metadata": {
  "kernelspec": {
   "display_name": "Python 3",
   "language": "python",
   "name": "python3"
  },
  "language_info": {
   "codemirror_mode": {
    "name": "ipython",
    "version": 3
   },
   "file_extension": ".py",
   "mimetype": "text/x-python",
   "name": "python",
   "nbconvert_exporter": "python",
   "pygments_lexer": "ipython3",
   "version": "3.8.3"
  }
 },
 "nbformat": 4,
 "nbformat_minor": 4
}
